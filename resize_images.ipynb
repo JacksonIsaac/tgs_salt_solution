{
 "cells": [
  {
   "cell_type": "code",
   "execution_count": 1,
   "metadata": {},
   "outputs": [],
   "source": [
    "%run base.ipynb"
   ]
  },
  {
   "cell_type": "code",
   "execution_count": null,
   "metadata": {},
   "outputs": [],
   "source": [
    "from itertools import chain"
   ]
  },
  {
   "cell_type": "code",
   "execution_count": 2,
   "metadata": {},
   "outputs": [],
   "source": [
    "sz = 128"
   ]
  },
  {
   "cell_type": "code",
   "execution_count": 67,
   "metadata": {},
   "outputs": [],
   "source": [
    "(PATH/TRAIN_DN/f'{sz}').mkdir(exist_ok=True)\n",
    "(PATH/TEST_DN/f'{sz}').mkdir(exist_ok=True)\n",
    "(PATH/TRAIN_DN/f'{sz}/images').mkdir(exist_ok=True)\n",
    "(PATH/TRAIN_DN/f'{sz}/masks').mkdir(exist_ok=True)\n",
    "(PATH/TEST_DN/f'{sz}/images').mkdir(exist_ok=True)"
   ]
  },
  {
   "cell_type": "code",
   "execution_count": 4,
   "metadata": {},
   "outputs": [],
   "source": [
    "from concurrent.futures import ThreadPoolExecutor"
   ]
  },
  {
   "cell_type": "code",
   "execution_count": 5,
   "metadata": {},
   "outputs": [],
   "source": [
    "from PIL import Image"
   ]
  },
  {
   "cell_type": "code",
   "execution_count": 21,
   "metadata": {},
   "outputs": [
    {
     "name": "stdout",
     "output_type": "stream",
     "text": [
      "CPU times: user 2min 1s, sys: 696 ms, total: 2min 2s\n",
      "Wall time: 16.6 s\n"
     ]
    }
   ],
   "source": [
    "%%time\n",
    "def resize_img(fn):\n",
    "    Image.open(fn).resize((sz,sz), resample=PIL.Image.BILINEAR).save((fn.parent.parent.parent)/str(sz)/'images'/fn.name)\n",
    "\n",
    "files = list((PATH/TRAIN_DN/'101'/IMAGES).iterdir())\n",
    "with ThreadPoolExecutor(8) as e: e.map(resize_img, files)"
   ]
  },
  {
   "cell_type": "code",
   "execution_count": 22,
   "metadata": {},
   "outputs": [
    {
     "name": "stdout",
     "output_type": "stream",
     "text": [
      "CPU times: user 8min 53s, sys: 2.87 s, total: 8min 56s\n",
      "Wall time: 1min 16s\n"
     ]
    }
   ],
   "source": [
    "%%time\n",
    "def resize_img(fn):\n",
    "    Image.open(fn).resize((sz,sz), PIL.Image.BILINEAR).save((fn.parent.parent.parent)/str(sz)/'images'/fn.name)\n",
    "\n",
    "files = list((PATH/TEST_DN/'101'/IMAGES).iterdir())\n",
    "with ThreadPoolExecutor(8) as e: e.map(resize_img, files)"
   ]
  },
  {
   "cell_type": "code",
   "execution_count": 6,
   "metadata": {},
   "outputs": [
    {
     "name": "stdout",
     "output_type": "stream",
     "text": [
      "CPU times: user 13.1 s, sys: 556 ms, total: 13.6 s\n",
      "Wall time: 2.15 s\n"
     ]
    }
   ],
   "source": [
    "%%time\n",
    "def resize_mask(fn):\n",
    "    Image.open(fn).resize((sz,sz)).save((fn.parent.parent.parent)/str(sz)/'masks'/fn.name)\n",
    "\n",
    "files = list((PATH/TRAIN_DN/'101'/MASKS).iterdir())\n",
    "with ThreadPoolExecutor(8) as e: e.map(resize_mask, files)"
   ]
  }
 ],
 "metadata": {
  "kernelspec": {
   "display_name": "Python 3",
   "language": "python",
   "name": "python3"
  },
  "language_info": {
   "codemirror_mode": {
    "name": "ipython",
    "version": 3
   },
   "file_extension": ".py",
   "mimetype": "text/x-python",
   "name": "python",
   "nbconvert_exporter": "python",
   "pygments_lexer": "ipython3",
   "version": "3.7.0"
  }
 },
 "nbformat": 4,
 "nbformat_minor": 2
}

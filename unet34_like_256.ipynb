{
 "cells": [
  {
   "cell_type": "code",
   "execution_count": null,
   "metadata": {},
   "outputs": [],
   "source": [
    "%run ./utils.ipynb"
   ]
  },
  {
   "cell_type": "code",
   "execution_count": null,
   "metadata": {},
   "outputs": [],
   "source": [
    "sz = 256\n",
    "max_crop_sz = int(sz * 0.9)"
   ]
  },
  {
   "cell_type": "code",
   "execution_count": null,
   "metadata": {},
   "outputs": [],
   "source": [
    "trn_tfms = albumentations.Compose([\n",
    "    albumentations.HorizontalFlip(),\n",
    "    albumentations.RandomSizedCrop((max_crop_sz, max_crop_sz), sz, sz, interpolation=1, p=0.5),\n",
    "    albumentations.IAAAffine(rotate=10, p=0.5, mode='edge'),\n",
    "    albumentations.Blur()\n",
    "])"
   ]
  },
  {
   "cell_type": "code",
   "execution_count": null,
   "metadata": {},
   "outputs": [],
   "source": [
    "db = get_data_bunch(sz=sz, bs=40, part=0, trn_tfms=trn_tfms)"
   ]
  },
  {
   "cell_type": "code",
   "execution_count": null,
   "metadata": {},
   "outputs": [],
   "source": [
    "db.train_dl.dl.dataset.check_tfms(1)"
   ]
  },
  {
   "cell_type": "code",
   "execution_count": null,
   "metadata": {},
   "outputs": [],
   "source": [
    "db.train_dl.dl.dataset.check_tfms(1)"
   ]
  },
  {
   "cell_type": "code",
   "execution_count": null,
   "metadata": {},
   "outputs": [],
   "source": [
    "db.valid_dl.dl.dataset.check_tfms(15)"
   ]
  },
  {
   "cell_type": "code",
   "execution_count": null,
   "metadata": {},
   "outputs": [],
   "source": [
    "# Hyperparameters\n",
    "mult = 2 # channel multiplier for transposed convolutions\n",
    "k = 4 # kernel size of transposed convolutions, needs to be a multiple of 2\n",
    "folds_to_train = range(n_splits)"
   ]
  },
  {
   "cell_type": "code",
   "execution_count": null,
   "metadata": {},
   "outputs": [],
   "source": [
    "def get_learner(db):\n",
    "    res34 = pretrainedmodels.resnet34()\n",
    "    base = nn.Sequential(*list(res34.children())[:-2])\n",
    "    m = Unet34Like(base)\n",
    "    m.cuda(default_device);\n",
    "    learn = Learner(db, m, true_wd=True, loss_fn=bce_loss, layer_groups=split_model_idx(m, [61, 91]), opt_fn=lambda x: optim.SGD(x))\n",
    "#     learn = Learner(db, m, true_wd=True, loss_fn=loss, layer_groups=split_model_idx(m, [61, 91]), opt_fn=AdamW)\n",
    "    learn.metrics = [accuracy_thresh, dice, iou_pytorch]\n",
    "    learn.callbacks = [SaveBest()]\n",
    "    return learn"
   ]
  },
  {
   "cell_type": "code",
   "execution_count": null,
   "metadata": {},
   "outputs": [],
   "source": [
    "class UnetBlock(nn.Module):\n",
    "    def __init__(self, up_in, x_in, n_out):\n",
    "        super().__init__()\n",
    "        up_out = x_out = n_out//2\n",
    "        self.x_conv  = nn.Conv2d(x_in,  x_out,  1)\n",
    "        self.tr_conv = nn.ConvTranspose2d(up_in, up_out, k, stride=2, padding=(k-2)//2)\n",
    "        self.bn = nn.BatchNorm2d(n_out)\n",
    "        self.out_channels = n_out\n",
    "        \n",
    "    def forward(self, up_p, x_p):\n",
    "        up_p = self.tr_conv(up_p)\n",
    "        x_p = self.x_conv(x_p)\n",
    "        cat_p = torch.cat([up_p,x_p], dim=1)\n",
    "        return self.bn(F.relu(cat_p))\n",
    "    \n",
    "class Unet34Like(nn.Module):        \n",
    "    def __init__(self, rn):\n",
    "        super().__init__()\n",
    "        self.rn = rn\n",
    "        self.sfs = [SaveFeatures(rn[i]) for i in [2,4,5,6]]\n",
    "        self.up1 = UnetBlock(512,256,192 * mult)\n",
    "        self.up2 = UnetBlock(192 * mult,128,96 * mult)\n",
    "        self.up3 = UnetBlock(96 * mult,64,32 * mult)\n",
    "        self.up4 = UnetBlock(32 * mult,64,32 * mult)\n",
    "        self.up5 = UnetBlock(32 * mult,3,16 * mult)\n",
    "        \n",
    "        self.se1 = scSELayer(self.up1.out_channels)\n",
    "        self.se2 = scSELayer(self.up2.out_channels)\n",
    "        self.se3 = scSELayer(self.up3.out_channels)\n",
    "        self.se4 = scSELayer(self.up4.out_channels)\n",
    "        self.se5 = scSELayer(self.up5.out_channels)\n",
    "        \n",
    "        self.se_feat0 = scSELayer(64)\n",
    "        self.se_feat1 = scSELayer(64)\n",
    "        self.se_feat2 = scSELayer(128)\n",
    "        self.se_feat3 = scSELayer(256)\n",
    "        \n",
    "        self.hc1 = HCBlock(self.up1.out_channels, out_sz=sz)\n",
    "        self.hc2 = HCBlock(self.up2.out_channels, out_sz=sz)\n",
    "        self.hc3 = HCBlock(self.up3.out_channels, out_sz=sz)\n",
    "        self.hc4 = HCBlock(self.up4.out_channels, out_sz=sz)\n",
    "        \n",
    "        self.hc_comb = nn.Conv2d(64, 8, 3, padding=1)\n",
    "        self.hc_bn = nn.BatchNorm2d(8)\n",
    "        \n",
    "        self.up6 = nn.ConvTranspose2d(16 * mult + 8, 1, 1)\n",
    "        \n",
    "    def forward(self,x):\n",
    "        inp = x\n",
    "        x = F.relu(self.rn(x))\n",
    "        x = self.up1(x, self.se_feat3(self.sfs[3].features))\n",
    "        x = self.se1(x)\n",
    "        hc1 = self.hc1(x)\n",
    "        \n",
    "        x = self.up2(x, self.se_feat2(self.sfs[2].features))\n",
    "        x = self.se2(x)\n",
    "        hc2 = self.hc2(x)\n",
    "        \n",
    "        x = self.up3(x, self.se_feat1(self.sfs[1].features))\n",
    "        x = self.se3(x)\n",
    "        hc3 = self.hc3(x)\n",
    "        \n",
    "        x = self.up4(x, self.se_feat0(self.sfs[0].features))\n",
    "        x = self.se4(x)\n",
    "        hc4 = self.hc4(x)\n",
    "        \n",
    "        x = self.up5(x, inp)\n",
    "        x = self.se5(x)\n",
    "        \n",
    "        hc = self.hc_comb(torch.cat((hc1, hc2, hc3, hc4), dim=1))\n",
    "        hc = self.hc_bn(F.relu(hc))\n",
    "        x = torch.cat((x, hc), dim=1)\n",
    "        x = self.up6(x)\n",
    "        return x[:,0]\n",
    "    \n",
    "    def close(self):\n",
    "        for sf in self.sfs: sf.remove()"
   ]
  },
  {
   "cell_type": "code",
   "execution_count": null,
   "metadata": {},
   "outputs": [],
   "source": [
    "%%time\n",
    "# full size\n",
    "\n",
    "for fold in folds_to_train:\n",
    "    print(f'### Starting to train fold {fold} ###')\n",
    "    db = get_data_bunch(sz=256, bs=40, part=fold, trn_tfms=trn_tfms)\n",
    "    learn = get_learner(db)\n",
    "    learn.freeze_to(2)\n",
    "    learn.fit_one_cycle(3, 1e-1)\n",
    "    learn.freeze_to(1)\n",
    "    learn.fit_one_cycle(6, 1e-1)\n",
    "    learn.unfreeze()\n",
    "    learn.fit_one_cycle(40, 5e-2)\n",
    "    learn.loss_fn = lovasz_loss\n",
    "    learn.fit_one_cycle(40, 1e-2)\n",
    "    learn.save(f'{name}_fold{fold}')"
   ]
  },
  {
   "cell_type": "code",
   "execution_count": null,
   "metadata": {},
   "outputs": [],
   "source": [
    "%%time\n",
    "\n",
    "upside_down = False\n",
    "\n",
    "for fold in folds_to_train:\n",
    "    db = get_data_bunch(sz=256, bs=40, part=fold, trn_tfms=trn_tfms)\n",
    "    learn = get_learner(db)\n",
    "    \n",
    "    learn.load(f'{name}_fold{fold}')\n",
    "    val_preds, val_targs = predict_with_targs_and_TTA(learn.model, db.valid_dl, upside_down)\n",
    "    test_preds = predict_with_TTA(learn.model, db.test_dl, upside_down)\n",
    "    val_preds, test_preds = normalize_t(val_preds, val_targs, test_preds)\n",
    "    print(f'Fold {fold} val acc: {accuracy_np(val_preds, val_targs)}, iou: {iou_metric(val_targs, val_preds > 0.5)}')\n",
    "    \n",
    "    np.save(f'/home/radek/db/salt/val_preds_{name}_fold{fold}', val_preds)\n",
    "    np.save(f'/home/radek/db/salt/val_targs_{name}_fold{fold}', val_targs)\n",
    "    np.save(f'/home/radek/db/salt/test_preds_{name}_fold{fold}', test_preds)\n",
    "    del val_preds, val_targs, test_preds\n",
    "    \n",
    "    \n",
    "    learn.load(f'{name}_best_iou_fold{fold}')\n",
    "    val_preds, val_targs = predict_with_targs_and_TTA(learn.model, db.valid_dl, upside_down)\n",
    "    test_preds = predict_with_TTA(learn.model, db.test_dl, upside_down)\n",
    "    \n",
    "    val_preds, test_preds = normalize_t(val_preds, val_targs, test_preds)\n",
    "    print(f'Fold {fold} best iou val acc: {accuracy_np(val_preds, val_targs)}, iou: {iou_metric(val_targs, val_preds > 0.5)}')\n",
    "    \n",
    "    np.save(f'/home/radek/db/salt/val_preds_{name}_best_iou_fold{fold}', val_preds)\n",
    "    np.save(f'/home/radek/db/salt/test_{name}_best_iou_fold{fold}', test_preds)\n",
    "    del val_preds, val_targs, test_preds\n",
    "    \n",
    "    learn.model.close()\n",
    "    del learn"
   ]
  },
  {
   "cell_type": "code",
   "execution_count": null,
   "metadata": {},
   "outputs": [],
   "source": [
    "%%time\n",
    "ys = []\n",
    "preds = []\n",
    "test_preds = np.zeros((18000, 256, 256))\n",
    "for fold in folds_to_train:\n",
    "    y = np.load(f'/home/radek/db/salt/val_targs_{name}_fold{fold}.npy')\n",
    "    val_preds = np.load(f'/home/radek/db/salt/val_preds_{name}_fold{fold}.npy')\n",
    "    preds.append(val_preds)\n",
    "    ys.append(y)\n",
    "    test_pred = np.load(f'/home/radek/db/salt/test_preds_{name}_fold{fold}.npy')\n",
    "    test_preds += test_pred / len(folds_to_train)\n",
    "\n",
    "np.save(f'/home/radek/db/salt/val_preds_{name}.npy', np.concatenate(preds))\n",
    "np.save(f'/home/radek/db/salt/val_targs_{name}.npy', np.concatenate(ys))\n",
    "np.save(f'/home/radek/db/salt/test_preds_{name}.npy', test_preds)"
   ]
  },
  {
   "cell_type": "code",
   "execution_count": null,
   "metadata": {},
   "outputs": [],
   "source": [
    "%%time\n",
    "for fold in folds_to_train:\n",
    "    val_preds = np.load(f'/home/radek/db/salt/val_preds_{name}_fold{fold}.npy')\n",
    "    val_targs = np.load(f'/home/radek/db/salt/val_targs_{name}_fold{fold}.npy')\n",
    "    print(f'Part {fold}: {accuracy_np(val_preds, val_targs)}, {iou_metric(val_targs, val_preds > 0.5)}, {best_preds_t(val_preds, val_targs)}')"
   ]
  },
  {
   "cell_type": "code",
   "execution_count": null,
   "metadata": {},
   "outputs": [],
   "source": []
  },
  {
   "cell_type": "code",
   "execution_count": null,
   "metadata": {},
   "outputs": [],
   "source": [
    "val_preds = np.load(f'/home/radek/db/salt/val_preds_{name}.npy')\n",
    "val_targs = np.load(f'/home/radek/db/salt/val_targs_{name}.npy')"
   ]
  },
  {
   "cell_type": "code",
   "execution_count": null,
   "metadata": {},
   "outputs": [],
   "source": [
    "iou_metric(val_targs, val_preds > 0.5)"
   ]
  },
  {
   "cell_type": "code",
   "execution_count": null,
   "metadata": {},
   "outputs": [],
   "source": [
    "%run diagnostics.ipynb"
   ]
  },
  {
   "cell_type": "code",
   "execution_count": null,
   "metadata": {},
   "outputs": [],
   "source": []
  },
  {
   "cell_type": "code",
   "execution_count": null,
   "metadata": {},
   "outputs": [],
   "source": [
    "test_preds = np.load(f'/home/radek/db/salt/test_preds_{name}.npy')"
   ]
  },
  {
   "cell_type": "code",
   "execution_count": null,
   "metadata": {},
   "outputs": [],
   "source": [
    "preds_to_sub(test_preds, db.test_dl.dl.dataset.x, 0.486, 60, name)"
   ]
  },
  {
   "cell_type": "code",
   "execution_count": null,
   "metadata": {},
   "outputs": [],
   "source": [
    "!kaggle competitions submit -c tgs-salt-identification-challenge -f ../subs/{name}.csv.gz  -m {name}"
   ]
  }
 ],
 "metadata": {
  "kernelspec": {
   "display_name": "Python 3",
   "language": "python",
   "name": "python3"
  },
  "language_info": {
   "codemirror_mode": {
    "name": "ipython",
    "version": 3
   },
   "file_extension": ".py",
   "mimetype": "text/x-python",
   "name": "python",
   "nbconvert_exporter": "python",
   "pygments_lexer": "ipython3",
   "version": "3.7.0"
  }
 },
 "nbformat": 4,
 "nbformat_minor": 2
}

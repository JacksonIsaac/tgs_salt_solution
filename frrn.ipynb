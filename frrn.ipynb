{
 "cells": [
  {
   "cell_type": "code",
   "execution_count": null,
   "metadata": {},
   "outputs": [],
   "source": [
    "# https://arxiv.org/pdf/1611.08323.pdf"
   ]
  },
  {
   "cell_type": "code",
   "execution_count": null,
   "metadata": {},
   "outputs": [],
   "source": [
    "%run ./utils.ipynb"
   ]
  },
  {
   "cell_type": "code",
   "execution_count": null,
   "metadata": {},
   "outputs": [],
   "source": [
    "sz = 256\n",
    "max_crop_sz = int(sz * 0.9)"
   ]
  },
  {
   "cell_type": "code",
   "execution_count": null,
   "metadata": {},
   "outputs": [],
   "source": [
    "trn_tfms = albumentations.Compose([\n",
    "    albumentations.HorizontalFlip(),\n",
    "    albumentations.RandomSizedCrop((max_crop_sz, max_crop_sz), sz, sz, interpolation=1, p=0.5),\n",
    "    albumentations.IAAAffine(rotate=10, p=0.5, mode='edge'),\n",
    "    albumentations.Blur()\n",
    "])"
   ]
  },
  {
   "cell_type": "code",
   "execution_count": null,
   "metadata": {},
   "outputs": [],
   "source": [
    "db = get_data_bunch(sz=sz, bs=32, part=4, trn_tfms=trn_tfms)"
   ]
  },
  {
   "cell_type": "code",
   "execution_count": null,
   "metadata": {},
   "outputs": [],
   "source": [
    "db.train_dl.dl.dataset.check_tfms(1)"
   ]
  },
  {
   "cell_type": "code",
   "execution_count": null,
   "metadata": {},
   "outputs": [],
   "source": [
    "db.valid_dl.dl.dataset.check_tfms(2)"
   ]
  },
  {
   "cell_type": "code",
   "execution_count": null,
   "metadata": {},
   "outputs": [],
   "source": [
    "class Conv2d(nn.Module):\n",
    "    def __init__(self, n_in, n_out, kernel_size=3, pad=1, bn=True, nonlinearity=True, bias=False):\n",
    "        super().__init__()\n",
    "        self.conv = nn.Conv2d(n_in, n_out, kernel_size, padding=pad, bias=bias)\n",
    "        if bn: self.bn = nn.BatchNorm2d(n_out)\n",
    "        if nonlinearity: self.relu = nn.ReLU()\n",
    "    def forward(self, x):\n",
    "        for c in self.children(): x = c(x)\n",
    "        return x\n",
    "\n",
    "class ruBlock(nn.Module):\n",
    "    def __init__(self, n_in, n_out):\n",
    "        super().__init__()\n",
    "        self.project = n_in != n_out\n",
    "        if self.project:\n",
    "            self.conv1x1 = Conv2d(n_in, n_out, 1, 0, nonlinearity=False, bn=False, bias=False)\n",
    "        self.conv1 = Conv2d(n_out, n_out)\n",
    "        self.conv2 = Conv2d(n_out, n_out, nonlinearity=False)\n",
    "        \n",
    "    def forward(self, x):\n",
    "        if self.project: x = self.conv1x1(x)\n",
    "        x_in = x\n",
    "        x = self.conv1(x)\n",
    "        x = self.conv2(x)\n",
    "        return x + x_in\n",
    "    \n",
    "class frruBlock(nn.Module):\n",
    "    def __init__(self, pooling, n_in, mult=None):\n",
    "        super().__init__()\n",
    "        if mult is None: mult = pooling\n",
    "        self.mult = mult\n",
    "        channels = int(base_channels * mult)\n",
    "        self.pooling = pooling\n",
    "        self.conv1 = Conv2d(n_in=n_in, n_out=channels)\n",
    "        self.conv2 = Conv2d(n_in=channels, n_out=channels)\n",
    "        self.res_conv1x1 = Conv2d(channels, lanes, 1, 0, False, False, True)\n",
    "    \n",
    "    def forward(self, pool_stream, res_stream):\n",
    "        res_in = res_stream\n",
    "        if self.pooling > 1:\n",
    "            res_stream = F.max_pool2d(res_stream, self.pooling, self.pooling)\n",
    "            \n",
    "        pool_stream = torch.cat((pool_stream, res_stream), dim=1)\n",
    "        pool_stream = self.conv1(pool_stream)\n",
    "        pool_stream = self.conv2(pool_stream)\n",
    "        \n",
    "        residual = self.res_conv1x1(pool_stream)\n",
    "        if self.pooling > 1:\n",
    "            residual = F.interpolate(residual, scale_factor=self.pooling)\n",
    "        res_stream = res_in + residual\n",
    "        return pool_stream, res_stream\n",
    "    \n",
    "\n",
    "class FRRN(nn.Module):\n",
    "    def __init__(self):\n",
    "        super().__init__()\n",
    "        \n",
    "        self.conv5x5 = Conv2d(3, base_channels, 5, pad=2)\n",
    "        self.ru_3 = nn.Sequential(\n",
    "            ruBlock(base_channels, base_channels),\n",
    "            ruBlock(base_channels, base_channels),\n",
    "            ruBlock(base_channels, base_channels)\n",
    "        )\n",
    "        self.conv1x1 = nn.Conv2d(base_channels, lanes, 1)\n",
    "        \n",
    "        # pooling stage / 2\n",
    "        self.frru2_0 = frruBlock(multiplier**1, n_in=base_channels+lanes)\n",
    "        self.frru2_1 = frruBlock(multiplier**1, n_in=base_channels*multiplier+lanes)\n",
    "        self.frru2_2 = frruBlock(multiplier**1, n_in=base_channels*multiplier+lanes)\n",
    "        \n",
    "        # pooling stage / 4\n",
    "        self.frru4_0 = frruBlock(multiplier**2, n_in=base_channels*multiplier+lanes)\n",
    "        self.frru4_1 = frruBlock(multiplier**2, n_in=base_channels*multiplier**2+lanes)\n",
    "        self.frru4_2 = frruBlock(multiplier**2, n_in=base_channels*multiplier**2+lanes)\n",
    "        self.frru4_3 = frruBlock(multiplier**2, n_in=base_channels*multiplier**2+lanes)\n",
    "        \n",
    "        # pooling stage / 8\n",
    "        self.frru8_0 = frruBlock(multiplier**3, n_in=base_channels*multiplier**2+lanes)\n",
    "        self.frru8_1 = frruBlock(multiplier**3, n_in=base_channels*multiplier**3+lanes)\n",
    "        \n",
    "        # pooling stage / 16\n",
    "        self.frru16_0 = frruBlock(multiplier**4, n_in=base_channels*multiplier**3+lanes, mult=multiplier**3)\n",
    "        self.frru16_1 = frruBlock(multiplier**4, n_in=base_channels*multiplier**3+lanes, mult=multiplier**3)   \n",
    "        \n",
    "        # pooling stage / 8 up\n",
    "        self.frru8_up_0 = frruBlock(multiplier**3, n_in=base_channels*multiplier**3+lanes, mult=multiplier**2)\n",
    "        self.frru8_up_1 = frruBlock(multiplier**3, n_in=base_channels*multiplier**2+lanes, mult=multiplier**2)\n",
    "        \n",
    "        # Pooling stage / 4 up\n",
    "        self.frru4_up_0 = frruBlock(multiplier**2, n_in=base_channels*multiplier**2+lanes)\n",
    "        self.frru4_up_1 = frruBlock(multiplier**2, n_in=base_channels*multiplier**2+lanes)\n",
    "                \n",
    "        # Pooling stage / 2 up\n",
    "        self.frru2_up_0 = frruBlock(multiplier**1, n_in=base_channels*multiplier**2+lanes)\n",
    "        self.frru2_up_1 = frruBlock(multiplier**1, n_in=base_channels*multiplier**1+lanes)\n",
    "        \n",
    "        self.ru_3_up = nn.Sequential(\n",
    "            ruBlock(base_channels * multiplier + lanes, base_channels),\n",
    "            ruBlock(base_channels, base_channels),\n",
    "            ruBlock(base_channels, base_channels)\n",
    "        )\n",
    "        \n",
    "        self.out = Conv2d(base_channels, 1, 1, 0, False, False, True)\n",
    "\n",
    "    def forward(self, x):\n",
    "        pool_stream = self.conv5x5(x)\n",
    "        \n",
    "        pool_stream = self.ru_3(pool_stream)        \n",
    "        res_stream = self.conv1x1(pool_stream)\n",
    "        \n",
    "        # pooling stage / 2\n",
    "        pool_stream = F.max_pool2d(pool_stream, 2, 2)\n",
    "        pool_stream, res_stream = self.frru2_0(pool_stream, res_stream)\n",
    "        pool_stream, res_stream = self.frru2_1(pool_stream, res_stream)\n",
    "        pool_stream, res_stream = self.frru2_2(pool_stream, res_stream)\n",
    "        \n",
    "        # pooling stage / 4\n",
    "        pool_stream = F.max_pool2d(pool_stream, 2, 2)\n",
    "        pool_stream, res_stream = self.frru4_0(pool_stream, res_stream)\n",
    "        pool_stream, res_stream = self.frru4_1(pool_stream, res_stream)\n",
    "        pool_stream, res_stream = self.frru4_2(pool_stream, res_stream)\n",
    "        pool_stream, res_stream = self.frru4_3(pool_stream, res_stream)\n",
    "        \n",
    "        # pooling stage / 8\n",
    "        pool_stream = F.max_pool2d(pool_stream, 2, 2)\n",
    "        pool_stream, res_stream = self.frru8_0(pool_stream, res_stream)\n",
    "        pool_stream, res_stream = self.frru8_1(pool_stream, res_stream)\n",
    "        \n",
    "        # pooling stage / 16\n",
    "        pool_stream = F.max_pool2d(pool_stream, 2, 2)\n",
    "        pool_stream, res_stream = self.frru16_0(pool_stream, res_stream)\n",
    "        pool_stream, res_stream = self.frru16_1(pool_stream, res_stream)\n",
    "        \n",
    "        # pooling stage / 8 up\n",
    "        pool_stream = F.interpolate(pool_stream, scale_factor=2, mode='bilinear', align_corners=False)\n",
    "        pool_stream, res_stream = self.frru8_up_0(pool_stream, res_stream)\n",
    "        pool_stream, res_stream = self.frru8_up_1(pool_stream, res_stream)\n",
    "        \n",
    "        # pooling stage / 4 up\n",
    "        pool_stream = F.interpolate(pool_stream, scale_factor=2, mode='bilinear', align_corners=False)\n",
    "        pool_stream, res_stream = self.frru4_up_0(pool_stream, res_stream)\n",
    "        pool_stream, res_stream = self.frru4_up_1(pool_stream, res_stream)\n",
    "                \n",
    "        # pooling stage / 2 up\n",
    "        pool_stream = F.interpolate(pool_stream, scale_factor=2, mode='bilinear', align_corners=False)\n",
    "        pool_stream, res_stream = self.frru2_up_0(pool_stream, res_stream)\n",
    "        pool_stream, res_stream = self.frru2_up_1(pool_stream, res_stream)\n",
    "        \n",
    "        # pooling stage / 1 <-> Full resolution\n",
    "        pool_stream = F.interpolate(pool_stream, scale_factor=2, mode='bilinear', align_corners=False)\n",
    "        \n",
    "        x = torch.cat((pool_stream, res_stream), dim=1)\n",
    "        x = self.ru_3_up(x)\n",
    "            \n",
    "        return self.out(x)[:,0]"
   ]
  },
  {
   "cell_type": "code",
   "execution_count": null,
   "metadata": {},
   "outputs": [],
   "source": [
    "base_channels = 32\n",
    "lanes = 32\n",
    "multiplier = 2\n",
    "name = 'frrn_256_adam'\n",
    "bs = 12\n",
    "folds_to_train = range(n_splits)"
   ]
  },
  {
   "cell_type": "code",
   "execution_count": null,
   "metadata": {},
   "outputs": [],
   "source": [
    "db = get_data_bunch(sz=sz, bs=bs, part=4, trn_tfms=trn_tfms)"
   ]
  },
  {
   "cell_type": "code",
   "execution_count": null,
   "metadata": {},
   "outputs": [],
   "source": [
    "def bce_loss(preds, targs): return F.binary_cross_entropy_with_logits(preds, targs)"
   ]
  },
  {
   "cell_type": "code",
   "execution_count": null,
   "metadata": {},
   "outputs": [],
   "source": [
    "k = 512 * multiplier \n",
    "def bootstrapped_xentropy_with_logits(preds, targs):\n",
    "    preds = preds.view(-1)\n",
    "    targs = targs.view(-1)\n",
    "    diff = (targs - preds.sigmoid()).abs()\n",
    "    order = diff.sort(descending=True)[1]\n",
    "    return F.binary_cross_entropy_with_logits(preds[order[:k]], targs[order[:k]])"
   ]
  },
  {
   "cell_type": "code",
   "execution_count": null,
   "metadata": {},
   "outputs": [],
   "source": [
    "def get_learner(db):\n",
    "    m = FRRN()\n",
    "    m.cuda(default_device)\n",
    "#     learn = Learner(db, m, true_wd=True, loss_fn=boot, layer_groups=split_model_idx(m, [61, 91]), opt_fn=lambda x: optim.SGD(x))\n",
    "#     learn = Learner(db, m, true_wd=True, loss_fn=loss, layer_groups=split_model_idx(m, [61, 91]), opt_fn=AdamW)\n",
    "    learn = Learner(db, m, loss_fn=bce_loss, opt_fn=lambda x: optim.Adam(x))\n",
    "    learn.metrics = [accuracy_thresh, dice, iou_pytorch]\n",
    "    learn.callbacks = [SaveBest()]\n",
    "    return learn"
   ]
  },
  {
   "cell_type": "code",
   "execution_count": null,
   "metadata": {},
   "outputs": [],
   "source": []
  },
  {
   "cell_type": "code",
   "execution_count": null,
   "metadata": {},
   "outputs": [],
   "source": []
  },
  {
   "cell_type": "code",
   "execution_count": null,
   "metadata": {},
   "outputs": [],
   "source": [
    "%%time\n",
    "\n",
    "upside_down = False\n",
    "\n",
    "for fold in folds_to_train:\n",
    "    db = get_data_bunch(sz=202, bs=32, part=fold, trn_tfms=trn_tfms)\n",
    "    learn = get_learner(db)\n",
    "    \n",
    "    learn.load(f'{name}_fold{fold}')\n",
    "    val_preds, val_targs = predict_with_targs_and_TTA(learn.model, db.valid_dl, upside_down)\n",
    "    test_preds = predict_with_TTA(learn.model, db.test_dl, upside_down)\n",
    "    print(f'Fold {fold} val acc: {accuracy_np(val_preds, val_targs)}, iou: {iou_metric(val_targs, val_preds > 0.5)}')\n",
    "    \n",
    "    val_preds, test_preds = normalize_t(val_preds, val_targs, test_preds)\n",
    "    \n",
    "    np.save(f'/home/radek/db/salt/val_preds_{name}_fold{fold}', val_preds)\n",
    "    np.save(f'/home/radek/db/salt/val_targs_{name}_fold{fold}', val_targs)\n",
    "    np.save(f'/home/radek/db/salt/test_preds_{name}_fold{fold}', test_preds)\n",
    "    del val_preds, val_targs, test_preds\n",
    "    \n",
    "    \n",
    "    learn.load(f'{name}_best_iou_fold{fold}')\n",
    "    val_preds, val_targs = predict_with_targs_and_TTA(learn.model, db.valid_dl, upside_down)\n",
    "    test_preds = predict_with_TTA(learn.model, db.test_dl, upside_down)\n",
    "    \n",
    "    val_preds, test_preds = normalize_t(val_preds, val_targs, test_preds)\n",
    "    print(f'Fold {fold} best iou val acc: {accuracy_np(val_preds, val_targs)}, iou: {iou_metric(val_targs, val_preds > 0.5)}')\n",
    "    \n",
    "    np.save(f'/home/radek/db/salt/val_preds_{name}_best_iou_fold{fold}', val_preds)\n",
    "    np.save(f'/home/radek/db/salt/test_{name}_best_iou_fold{fold}', test_preds)\n",
    "    del val_preds, val_targs, test_preds\n",
    "    \n",
    "    learn.model.close()\n",
    "    del learn"
   ]
  },
  {
   "cell_type": "code",
   "execution_count": null,
   "metadata": {},
   "outputs": [],
   "source": [
    "%%time\n",
    "ys = []\n",
    "preds = []\n",
    "test_preds = np.zeros((18000, 202, 202))\n",
    "for fold in folds_to_train:\n",
    "    y = np.load(f'/home/radek/db/salt/val_targs_{name}_fold{fold}.npy')\n",
    "    val_preds = np.load(f'/home/radek/db/salt/val_preds_{name}_fold{fold}.npy')\n",
    "    preds.append(val_preds)\n",
    "    ys.append(y)\n",
    "    test_pred = np.load(f'/home/radek/db/salt/test_preds_{name}_fold{fold}.npy')\n",
    "    test_preds += test_pred / len(folds_to_train)\n",
    "\n",
    "np.save(f'/home/radek/db/salt/val_preds_{name}.npy', np.concatenate(preds))\n",
    "np.save(f'/home/radek/db/salt/val_targs_{name}.npy', np.concatenate(ys))\n",
    "np.save(f'/home/radek/db/salt/test_preds_{name}.npy', test_preds)"
   ]
  },
  {
   "cell_type": "code",
   "execution_count": null,
   "metadata": {},
   "outputs": [],
   "source": [
    "%%time\n",
    "for fold in folds_to_train:\n",
    "    val_preds = np.load(f'/home/radek/db/salt/val_preds_{name}_fold{fold}.npy')\n",
    "    val_targs = np.load(f'/home/radek/db/salt/val_targs_{name}_fold{fold}.npy')\n",
    "    print(f'Part {fold}: {accuracy_np(val_preds, val_targs)}, {iou_metric(val_targs, val_preds > 0.5)}, {best_preds_t(val_preds, val_targs)}')"
   ]
  },
  {
   "cell_type": "code",
   "execution_count": null,
   "metadata": {},
   "outputs": [],
   "source": []
  },
  {
   "cell_type": "code",
   "execution_count": null,
   "metadata": {},
   "outputs": [],
   "source": [
    "val_preds = np.load(f'/home/radek/db/salt/val_preds_{name}.npy')\n",
    "val_targs = np.load(f'/home/radek/db/salt/val_targs_{name}.npy')"
   ]
  },
  {
   "cell_type": "code",
   "execution_count": null,
   "metadata": {},
   "outputs": [],
   "source": [
    "iou_metric(val_targs, val_preds > 0.5)"
   ]
  },
  {
   "cell_type": "code",
   "execution_count": null,
   "metadata": {},
   "outputs": [],
   "source": [
    "%run diagnostics.ipynb"
   ]
  },
  {
   "cell_type": "code",
   "execution_count": null,
   "metadata": {},
   "outputs": [],
   "source": []
  },
  {
   "cell_type": "code",
   "execution_count": null,
   "metadata": {},
   "outputs": [],
   "source": [
    "test_preds = np.load(f'/home/radek/db/salt/test_preds_{name}.npy')"
   ]
  },
  {
   "cell_type": "code",
   "execution_count": null,
   "metadata": {},
   "outputs": [],
   "source": [
    "preds_to_sub(test_preds, db.test_dl.dl.dataset.x, 0.5, 120, name)"
   ]
  },
  {
   "cell_type": "code",
   "execution_count": null,
   "metadata": {},
   "outputs": [],
   "source": [
    "!kaggle competitions submit -c tgs-salt-identification-challenge -f ../subs/{name}.csv.gz  -m {name}"
   ]
  }
 ],
 "metadata": {
  "kernelspec": {
   "display_name": "Python 3",
   "language": "python",
   "name": "python3"
  },
  "language_info": {
   "codemirror_mode": {
    "name": "ipython",
    "version": 3
   },
   "file_extension": ".py",
   "mimetype": "text/x-python",
   "name": "python",
   "nbconvert_exporter": "python",
   "pygments_lexer": "ipython3",
   "version": "3.7.0"
  }
 },
 "nbformat": 4,
 "nbformat_minor": 2
}

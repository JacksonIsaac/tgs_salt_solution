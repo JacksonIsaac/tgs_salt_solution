{
 "cells": [
  {
   "cell_type": "code",
   "execution_count": null,
   "metadata": {},
   "outputs": [],
   "source": [
    "res = []\n",
    "# using t as abbreviation for threshold\n",
    "mask_ts_to_eval = np.arange(10) * 30\n",
    "\n",
    "sig_ts = np.linspace(0.3, 0.7, 31)\n",
    "def ious_at_mask_t(preds, targs, mask_t): return np.array([iou_metric(targs, [filter_image(img, mask_t) for img in preds > t]) for t in sig_ts])\n",
    "\n",
    "for mask_t in tqdm_notebook(mask_ts_to_eval):\n",
    "    ious = ious_at_mask_t(val_preds, val_targs, mask_t)\n",
    "    t_best_idx = np.argmax(ious) \n",
    "    res.append((ious[t_best_idx], sig_ts[t_best_idx], ious))\n",
    "\n",
    "best_mask_t_idxs = np.argmax([r[0] for r in res])\n",
    "best_mask_t = mask_ts_to_eval[best_mask_t_idxs]\n",
    "\n",
    "plt.plot(mask_ts_to_eval, [r[0] for r in res])\n",
    "\n",
    "plt.plot(best_mask_t, res[best_mask_t_idxs][0], \"xr\", label=\"Best mask threshold\")\n",
    "plt.xlabel(\"Mask threshold (pixel count)\")\n",
    "plt.ylabel(\"IoU\")\n",
    "plt.title(\"Mask threshold vs IoU ({}, {})\".format(best_mask_t, res[best_mask_t_idxs][0]))\n",
    "plt.legend();"
   ]
  },
  {
   "cell_type": "code",
   "execution_count": null,
   "metadata": {},
   "outputs": [],
   "source": [
    "plt.plot(sig_ts, res[best_mask_t_idxs][2])\n",
    "plt.plot(res[best_mask_t_idxs][1], res[best_mask_t_idxs][0], \"xr\", label=\"Best threshold\")\n",
    "plt.xlabel(\"Threshold\")\n",
    "plt.ylabel(\"IoU\")\n",
    "plt.title(\"Threshold vs IoU ({}, {})\".format(best_mask_t, res[best_mask_t_idxs][1]))\n",
    "plt.legend()\n",
    "\n",
    "ax = plt.gca()\n",
    "ax.grid(True);"
   ]
  }
 ],
 "metadata": {
  "kernelspec": {
   "display_name": "Python 3",
   "language": "python",
   "name": "python3"
  },
  "language_info": {
   "codemirror_mode": {
    "name": "ipython",
    "version": 3
   },
   "file_extension": ".py",
   "mimetype": "text/x-python",
   "name": "python",
   "nbconvert_exporter": "python",
   "pygments_lexer": "ipython3",
   "version": "3.7.0"
  }
 },
 "nbformat": 4,
 "nbformat_minor": 2
}

{
 "cells": [
  {
   "cell_type": "code",
   "execution_count": null,
   "metadata": {},
   "outputs": [],
   "source": [
    "%run ./utils.ipynb"
   ]
  },
  {
   "cell_type": "code",
   "execution_count": null,
   "metadata": {},
   "outputs": [],
   "source": [
    "# Hyperparameters\n",
    "mult = 1 # channel multiplier\n",
    "folds_to_train = range(n_splits)"
   ]
  },
  {
   "cell_type": "code",
   "execution_count": null,
   "metadata": {},
   "outputs": [],
   "source": [
    "sz = 202\n",
    "max_crop_sz = int(sz * 0.9)\n",
    "\n",
    "trn_tfms = albumentations.Compose([\n",
    "    albumentations.HorizontalFlip(),\n",
    "    albumentations.RandomSizedCrop((max_crop_sz, max_crop_sz), sz, sz, interpolation=1, p=0.5),\n",
    "    albumentations.IAAAffine(rotate=10, p=0.5, mode='edge'),\n",
    "    albumentations.Blur()\n",
    "])"
   ]
  },
  {
   "cell_type": "code",
   "execution_count": null,
   "metadata": {},
   "outputs": [],
   "source": [
    "base_tfms = albumentations.Compose([\n",
    "    albumentations.PadIfNeeded(256, 256)\n",
    "])\n",
    "\n",
    "def get_data_bunch(sz=128, bs=64, part=0, trn_tfms=trn_tfms):\n",
    "    trn_ds = FilesDataset(PATH/TRAIN_DN, sz, take_idxs=trn_parts[part], tfms=albumentations.Compose([trn_tfms, base_tfms]))\n",
    "    val_ds = FilesDataset(PATH/TRAIN_DN, sz, take_idxs=val_parts[part], tfms=base_tfms)\n",
    "    tst_ds = FilesDataset(PATH/TEST_DN, sz, tfms=base_tfms)\n",
    "    \n",
    "    trn_dl = DataLoader(trn_ds, bs, True, num_workers=11, pin_memory=True)\n",
    "    val_dl = DataLoader(val_ds, bs, False, num_workers=11, pin_memory=True)\n",
    "    tst_dl = DataLoader(tst_ds, bs, False, num_workers=11, pin_memory=True)\n",
    "    \n",
    "    trn_dl, val_dl, tst_dl = map(lambda ts: DeviceDataLoader(*ts), zip([trn_dl, val_dl, tst_dl], [default_device] * 3) )\n",
    "    return DataBunch(trn_dl, val_dl, tst_dl, default_device)\n",
    "\n",
    "def predict(model, dl, flip=True):\n",
    "    model.eval()\n",
    "    preds = [torch.sigmoid(model(xb)).detach().cpu().numpy()[:, 27:-27, 27:-27] for xb, yb in dl]\n",
    "    preds = np.concatenate(preds)\n",
    "    if not flip: return preds\n",
    "    flipped_preds = np.concatenate([torch.sigmoid(model(torch.flip(xb, [3]))).detach().cpu().numpy()[:, 27:-27, 27:-27] for xb, yb in dl])\n",
    "    preds = (preds + flipped_preds[:,:,::-1]) / 2\n",
    "    return preds\n",
    "\n",
    "def predict_with_TTA(model, dl, upside_down=True):\n",
    "    model.eval()\n",
    "    \n",
    "    preds = np.concatenate([torch.sigmoid(model(xb)).detach().cpu().numpy()[:, 27:-27, 27:-27] for xb, yb in dl])\n",
    "    if upside_down: preds_upside_down = np.concatenate([torch.sigmoid(model(torch.flip(xb, [2]))).detach().cpu().numpy()[:, 27:-27, 27:-27] for xb, yb in dl])\n",
    "    \n",
    "    flipped_preds = np.concatenate([torch.sigmoid(model(torch.flip(xb, [3]))).detach().cpu().numpy()[:, 27:-27, 27:-27] for xb, yb in dl])\n",
    "    if upside_down: flipped_preds_upside_down = np.concatenate([torch.sigmoid(model(torch.flip(xb, [1, 3]))).detach().cpu().numpy()[:, 27:-27, 27:-27] for xb, yb in dl])\n",
    "    \n",
    "    preds = (preds + flipped_preds[:,:,::-1]) / 2\n",
    "    if upside_down: preds = 0.5 * preds + (preds_upside_down[:,::-1,:] + flipped_preds_upside_down[:,::-1,::-1]) / 4 \n",
    "    return preds\n",
    "\n",
    "def predict_with_targs_and_TTA(model, dl, upside_down=True):\n",
    "    preds = predict_with_TTA(model, dl, upside_down)\n",
    "    targs = np.concatenate([yb.detach().cpu().numpy()[:, 27:-27, 27:-27] for xb, yb in dl])\n",
    "    return preds, targs\n",
    "\n",
    "def accuracy_no_pad(preds, targs):\n",
    "    return accuracy_thresh(preds[:, 27:-27, 27:-27], targs[:, 27:-27, 27:-27])\n",
    "\n",
    "def dice_no_pad(preds, targs):\n",
    "    return dice(preds[:, 27:-27, 27:-27], targs[:, 27:-27, 27:-27])\n",
    "\n",
    "def iou_pytorch(out, yb):\n",
    "    preds = out > 0\n",
    "    return torch.tensor(iou_metric(yb.cpu().numpy()[:, 27:-27, 27:-27], preds.cpu().numpy()[:, 27:-27, 27:-27]))"
   ]
  },
  {
   "cell_type": "code",
   "execution_count": null,
   "metadata": {},
   "outputs": [],
   "source": [
    "class UnetBlock(nn.Module):\n",
    "    def __init__(self, up_in, x_in, n_out, kernel_size=2, output_padding=0, padding=0, stride=2):\n",
    "        super().__init__()\n",
    "        up_out = x_out = n_out//2\n",
    "        self.x_conv  = nn.Conv2d(x_in,  x_out,  1)\n",
    "        self.tr_conv = nn.ConvTranspose2d(up_in, up_out, kernel_size, stride=stride, output_padding=output_padding, padding=padding)\n",
    "        self.bn = nn.BatchNorm2d(n_out)\n",
    "        self.out_channels = n_out\n",
    "        \n",
    "    def forward(self, up_p, x_p):\n",
    "        up_p = self.tr_conv(up_p)\n",
    "        x_p = self.x_conv(x_p)\n",
    "        cat_p = torch.cat([up_p,x_p], dim=1)\n",
    "        return self.bn(F.relu(cat_p))\n",
    "    \n",
    "class hcCombBlock(nn.Module):\n",
    "    def __init__(self, n_in, n_out):\n",
    "        super().__init__()\n",
    "        self.conv1 = nn.Conv2d(n_in, n_out // 2, 3, padding=1)\n",
    "        self.conv2 = nn.Conv2d(n_out // 2, n_out, 3, padding=1)\n",
    "        self.bn1 = nn.BatchNorm2d(n_out // 2)\n",
    "        self.bn2 = nn.BatchNorm2d(n_out)\n",
    "    \n",
    "    def forward(self, x):\n",
    "        x = self.bn1(F.relu(self.conv1(x)))\n",
    "        x = self.bn2(F.relu(self.conv2(x)))\n",
    "        return x\n",
    "        \n",
    "\n",
    "class UnetIncV4(nn.Module):\n",
    "    def __init__(self, inc):\n",
    "        super().__init__()\n",
    "        self.inc = inc\n",
    "        self.sfs = [SaveFeatures(self.inc[0][i]) for i in [0,2,3,4,9,17,21]]\n",
    "        self.up1 = UnetBlock(1536,1024,320 * mult,3,1)\n",
    "        self.up2 = UnetBlock(320 * mult,384,160 * mult,kernel_size=3)\n",
    "        self.up3 = UnetBlock(160  * mult,192,96 * mult,kernel_size=4)\n",
    "        self.up4 = UnetBlock(96 * mult,160,128 * mult,kernel_size=3,stride=1)\n",
    "        self.up5 = UnetBlock(128 * mult,64,48 * mult,kernel_size=3)\n",
    "        self.up6 = UnetBlock(48 * mult,32,64 * mult,kernel_size=3,stride=1)\n",
    "        self.up7 = UnetBlock(64 * mult,3,32 * mult,kernel_size=4)\n",
    "        self.up8 = nn.ConvTranspose2d(32 * mult + 16, 1, 1)\n",
    "        \n",
    "        self.se1 = scSELayer(self.up1.out_channels, 8)\n",
    "        self.se2 = scSELayer(self.up2.out_channels, 8)\n",
    "        self.se3 = scSELayer(self.up3.out_channels, 8)\n",
    "        self.se4 = scSELayer(self.up4.out_channels, 8)\n",
    "        self.se5 = scSELayer(self.up5.out_channels, 8)\n",
    "        self.se6 = scSELayer(self.up6.out_channels, 8)\n",
    "        self.se7 = scSELayer(self.up7.out_channels, 8)\n",
    "        \n",
    "        self.se_feat0 = scSELayer(32)\n",
    "        self.se_feat1 = scSELayer(64)\n",
    "        self.se_feat2 = scSELayer(160)\n",
    "        self.se_feat3 = scSELayer(192)\n",
    "        self.se_feat4 = scSELayer(384)\n",
    "        self.se_feat5 = scSELayer(1024)\n",
    "        \n",
    "        self.hc1 = HCBlock(self.up1.out_channels)\n",
    "        self.hc2 = HCBlock(self.up2.out_channels)\n",
    "        self.hc3 = HCBlock(self.up3.out_channels)\n",
    "        self.hc4 = HCBlock(self.up4.out_channels)\n",
    "        self.hc5 = HCBlock(self.up5.out_channels)\n",
    "        self.hc6 = HCBlock(self.up6.out_channels)\n",
    "                \n",
    "        self.hc_comb = nn.Conv2d(96, 16, 3, padding=1)\n",
    "        self.hc_bn = nn.BatchNorm2d(16)\n",
    "        \n",
    "    def forward(self,x):\n",
    "        inp = x\n",
    "        x = F.relu(self.inc(x))\n",
    "        \n",
    "        x = self.up1(x, self.se_feat5(self.sfs[5].features))\n",
    "        x = self.se1(x)\n",
    "        hc1 = self.hc1(x)\n",
    "        \n",
    "        x = self.up2(x, self.se_feat4(self.sfs[4].features))\n",
    "        x = self.se2(x)\n",
    "        hc2 = self.hc2(x)\n",
    "        \n",
    "        x = self.up3(x, self.se_feat3(self.sfs[3].features))\n",
    "        x = self.se3(x)\n",
    "        hc3 = self.hc3(x)\n",
    "        \n",
    "        x = self.up4(x, self.se_feat2(self.sfs[2].features))\n",
    "        x = self.se4(x)\n",
    "        hc4 = self.hc4(x)\n",
    "        \n",
    "        x = self.up5(x, self.se_feat1(self.sfs[1].features))\n",
    "        x = self.se5(x)\n",
    "        hc5 = self.hc5(x)\n",
    "        \n",
    "        x = self.up6(x, self.se_feat0(self.sfs[0].features))\n",
    "        x = self.se6(x)\n",
    "        hc6 = self.hc6(x)\n",
    "    \n",
    "        x = self.up7(x, inp)\n",
    "        x = self.se7(x)\n",
    "        \n",
    "        hc = self.hc_comb(torch.cat((hc1, hc2, hc3, hc4, hc5, hc6), dim=1))\n",
    "        hc = self.hc_bn(F.relu(hc))\n",
    "        x = torch.cat((x, hc), dim=1)\n",
    "        \n",
    "        x = self.up8(x)\n",
    "        return x[:,0]\n",
    "    \n",
    "    def close(self):\n",
    "        for sf in self.sfs: sf.remove()"
   ]
  },
  {
   "cell_type": "code",
   "execution_count": null,
   "metadata": {},
   "outputs": [],
   "source": [
    "def get_learner(db):\n",
    "    incv4 = pretrainedmodels.inceptionv4()\n",
    "    base = nn.Sequential(*list(incv4.children())[:-2])\n",
    "    m = UnetIncV4(base)\n",
    "    m.cuda(default_device)\n",
    "    learn = Learner(db, m, true_wd=True, loss_fn=bce_loss, opt_fn=lambda x: optim.SGD(x))\n",
    "#     learn = Learner(db, m, true_wd=True, loss_fn=bce_loss, opt_fn=AdamW)\n",
    "    learn.metrics = [accuracy_no_pad, dice_no_pad, iou_pytorch]\n",
    "    learn.callbacks = [SaveBest()]\n",
    "    return learn"
   ]
  },
  {
   "cell_type": "code",
   "execution_count": null,
   "metadata": {},
   "outputs": [],
   "source": [
    "name = 'incv4'"
   ]
  },
  {
   "cell_type": "code",
   "execution_count": null,
   "metadata": {},
   "outputs": [],
   "source": [
    "%%time\n",
    "for fold in folds_to_train:\n",
    "    print(f'### Starting to train fold {fold} ###')\n",
    "    db = get_data_bunch(sz=202, bs=16, part=fold, trn_tfms=trn_tfms)\n",
    "    learn = get_learner(db)\n",
    "    requires_grad(learn.model, True)\n",
    "    requires_grad(learn.model.inc, False)\n",
    "    learn.fit_one_cycle(9, 1e-1)\n",
    "    learn.unfreeze()\n",
    "    learn.fit_one_cycle(40, 1e-2)\n",
    "    learn.loss_fn = lovasz_loss\n",
    "    learn.fit_one_cycle(60, 5e-3)\n",
    "    learn.save(f'{name}_fold{fold}')"
   ]
  },
  {
   "cell_type": "code",
   "execution_count": null,
   "metadata": {},
   "outputs": [],
   "source": [
    "%%time\n",
    "\n",
    "upside_down = False\n",
    "\n",
    "for fold in folds_to_train:\n",
    "    db = get_data_bunch(sz=202, bs=16, part=fold, trn_tfms=trn_tfms)\n",
    "    learn = get_learner(db)\n",
    "    \n",
    "    learn.load(f'{name}_fold{fold}')\n",
    "    val_preds, val_targs = predict_with_targs_and_TTA(learn.model, db.valid_dl, upside_down)\n",
    "    test_preds = predict_with_TTA(learn.model, db.test_dl, upside_down)\n",
    "    val_preds, test_preds = normalize_t(val_preds, val_targs, test_preds)\n",
    "    print(f'Fold {fold} val acc: {accuracy_np(val_preds, val_targs)}, iou: {iou_metric(val_targs, val_preds > 0.5)}')\n",
    "    \n",
    "    np.save(f'/home/radek/db/salt/val_preds_{name}_fold{fold}', val_preds)\n",
    "    np.save(f'/home/radek/db/salt/val_targs_{name}_fold{fold}', val_targs)\n",
    "    np.save(f'/home/radek/db/salt/test_preds_{name}_fold{fold}', test_preds)\n",
    "    del val_preds, val_targs, test_preds\n",
    "    \n",
    "    \n",
    "    learn.load(f'{name}_best_iou_fold{fold}')\n",
    "    val_preds, val_targs = predict_with_targs_and_TTA(learn.model, db.valid_dl, upside_down)\n",
    "    test_preds = predict_with_TTA(learn.model, db.test_dl, upside_down)\n",
    "    \n",
    "    val_preds, test_preds = normalize_t(val_preds, val_targs, test_preds)\n",
    "    print(f'Fold {fold} best iou val acc: {accuracy_np(val_preds, val_targs)}, iou: {iou_metric(val_targs, val_preds > 0.5)}')\n",
    "    \n",
    "    np.save(f'/home/radek/db/salt/val_preds_{name}_best_iou_fold{fold}', val_preds)\n",
    "    np.save(f'/home/radek/db/salt/test_{name}_best_iou_fold{fold}', test_preds)\n",
    "    del val_preds, val_targs, test_preds\n",
    "    \n",
    "    learn.model.close()\n",
    "    del learn"
   ]
  },
  {
   "cell_type": "code",
   "execution_count": null,
   "metadata": {},
   "outputs": [],
   "source": [
    "%%time\n",
    "\n",
    "upside_down = False\n",
    "\n",
    "for fold in folds_to_train:\n",
    "    db = get_data_bunch(sz=202, bs=16, part=fold, trn_tfms=trn_tfms)\n",
    "    learn = get_learner(db)\n",
    "    \n",
    "    learn.load(f'{name}_fold{fold}')\n",
    "    val_preds, val_targs = predict_with_targs_and_TTA(learn.model, db.valid_dl, upside_down)\n",
    "    test_preds = predict_with_TTA(learn.model, db.test_dl, upside_down)\n",
    "    val_preds, test_preds = normalize_t(val_preds, val_targs, test_preds)\n",
    "    print(f'Fold {fold} val acc: {accuracy_np(val_preds, val_targs)}, iou: {iou_metric(val_targs, val_preds > 0.5)}')\n",
    "    \n",
    "    np.save(f'/home/radek/db/salt/val_preds_{name}_fold{fold}', val_preds)\n",
    "    np.save(f'/home/radek/db/salt/val_targs_{name}_fold{fold}', val_targs)\n",
    "    np.save(f'/home/radek/db/salt/test_preds_{name}_fold{fold}', test_preds)\n",
    "    del val_preds, val_targs, test_preds\n",
    "    \n",
    "    \n",
    "    learn.load(f'{name}_best_iou_fold{fold}')\n",
    "    val_preds, val_targs = predict_with_targs_and_TTA(learn.model, db.valid_dl, upside_down)\n",
    "    test_preds = predict_with_TTA(learn.model, db.test_dl, upside_down)\n",
    "    \n",
    "    val_preds, test_preds = normalize_t(val_preds, val_targs, test_preds)\n",
    "    print(f'Fold {fold} best iou val acc: {accuracy_np(val_preds, val_targs)}, iou: {iou_metric(val_targs, val_preds > 0.5)}')\n",
    "    \n",
    "    np.save(f'/home/radek/db/salt/val_preds_{name}_best_iou_fold{fold}', val_preds)\n",
    "    np.save(f'/home/radek/db/salt/test_{name}_best_iou_fold{fold}', test_preds)\n",
    "    del val_preds, val_targs, test_preds\n",
    "    \n",
    "    learn.model.close()\n",
    "    del learn"
   ]
  },
  {
   "cell_type": "code",
   "execution_count": null,
   "metadata": {},
   "outputs": [],
   "source": [
    "%%time\n",
    "\n",
    "upside_down = False\n",
    "\n",
    "for fold in [9]:\n",
    "    db = get_data_bunch(sz=202, bs=16, part=fold, trn_tfms=trn_tfms)\n",
    "    learn = get_learner(db)\n",
    "    \n",
    "    learn.load(f'{name}_fold{fold}')\n",
    "    val_preds, val_targs = predict_with_targs_and_TTA(learn.model, db.valid_dl, upside_down)\n",
    "    test_preds = predict_with_TTA(learn.model, db.test_dl, upside_down)\n",
    "    val_preds, test_preds = normalize_t(val_preds, val_targs, test_preds)\n",
    "    print(f'Fold {fold} val acc: {accuracy_np(val_preds, val_targs)}, iou: {iou_metric(val_targs, val_preds > 0.5)}')\n",
    "    \n",
    "    np.save(f'/home/radek/db/salt/val_preds_{name}_fold{fold}', val_preds)\n",
    "    np.save(f'/home/radek/db/salt/val_targs_{name}_fold{fold}', val_targs)\n",
    "    np.save(f'/home/radek/db/salt/test_preds_{name}_fold{fold}', test_preds)\n",
    "    del val_preds, val_targs, test_preds\n",
    "    \n",
    "    \n",
    "    learn.load(f'{name}_best_iou_fold{fold}')\n",
    "    val_preds, val_targs = predict_with_targs_and_TTA(learn.model, db.valid_dl, upside_down)\n",
    "    test_preds = predict_with_TTA(learn.model, db.test_dl, upside_down)\n",
    "    \n",
    "    val_preds, test_preds = normalize_t(val_preds, val_targs, test_preds)\n",
    "    print(f'Fold {fold} best iou val acc: {accuracy_np(val_preds, val_targs)}, iou: {iou_metric(val_targs, val_preds > 0.5)}')\n",
    "    \n",
    "    np.save(f'/home/radek/db/salt/val_preds_{name}_best_iou_fold{fold}', val_preds)\n",
    "    np.save(f'/home/radek/db/salt/test_{name}_best_iou_fold{fold}', test_preds)\n",
    "    del val_preds, val_targs, test_preds\n",
    "    \n",
    "    learn.model.close()\n",
    "    del learn"
   ]
  },
  {
   "cell_type": "code",
   "execution_count": null,
   "metadata": {},
   "outputs": [],
   "source": []
  },
  {
   "cell_type": "code",
   "execution_count": null,
   "metadata": {},
   "outputs": [],
   "source": []
  },
  {
   "cell_type": "code",
   "execution_count": null,
   "metadata": {},
   "outputs": [],
   "source": []
  },
  {
   "cell_type": "code",
   "execution_count": null,
   "metadata": {},
   "outputs": [],
   "source": [
    "iou_metric(val_targs, val_preds > 0.5)"
   ]
  },
  {
   "cell_type": "code",
   "execution_count": null,
   "metadata": {},
   "outputs": [],
   "source": [
    "%%time\n",
    "\n",
    "upside_down = False\n",
    "\n",
    "for fold in folds_to_train:\n",
    "    db = get_data_bunch(sz=202, bs=16, part=fold, trn_tfms=trn_tfms)\n",
    "    learn = get_learner(db)\n",
    "    \n",
    "    learn.load(f'{name}_fold{fold}')\n",
    "    val_preds, val_targs = predict_with_targs_and_TTA(learn.model, db.valid_dl, upside_down)\n",
    "    test_preds = predict_with_TTA(learn.model, db.test_dl, upside_down)\n",
    "    print(f'Fold {fold} val acc: {accuracy_np(val_preds, val_targs)}, iou: {iou_metric(val_targs, val_preds > 0.5)}')\n",
    "    \n",
    "    val_preds, test_preds = normalize_t(val_preds, val_targs, test_preds)\n",
    "    \n",
    "    np.save(f'/home/radek/db/salt/val_preds_{name}_fold{fold}', val_preds)\n",
    "    np.save(f'/home/radek/db/salt/val_targs_{name}_fold{fold}', val_targs)\n",
    "    np.save(f'/home/radek/db/salt/test_preds_{name}_fold{fold}', test_preds)\n",
    "    del val_preds, val_targs, test_preds\n",
    "    \n",
    "    \n",
    "    learn.load(f'{name}_best_iou_fold{fold}')\n",
    "    val_preds, val_targs = predict_with_targs_and_TTA(learn.model, db.valid_dl, upside_down)\n",
    "    test_preds = predict_with_TTA(learn.model, db.test_dl, upside_down)\n",
    "    \n",
    "    val_preds, test_preds = normalize_t(val_preds, val_targs, test_preds)\n",
    "    print(f'Fold {fold} best iou val acc: {accuracy_np(val_preds, val_targs)}, iou: {iou_metric(val_targs, val_preds > 0.5)}')\n",
    "    \n",
    "    np.save(f'/home/radek/db/salt/val_preds_{name}_best_iou_fold{fold}', val_preds)\n",
    "    np.save(f'/home/radek/db/salt/test_{name}_best_iou_fold{fold}', test_preds)\n",
    "    del val_preds, val_targs, test_preds\n",
    "    \n",
    "    learn.model.close()\n",
    "    del learn"
   ]
  },
  {
   "cell_type": "code",
   "execution_count": null,
   "metadata": {},
   "outputs": [],
   "source": [
    "%%time\n",
    "folds_to_train = [0,2,4,7,8,9]\n",
    "\n",
    "ys = []\n",
    "preds = []\n",
    "test_preds = np.zeros((18000, 202, 202))\n",
    "for fold in folds_to_train:\n",
    "    y = np.load(f'/home/radek/db/salt/val_targs_{name}_fold{fold}.npy')\n",
    "    val_preds = np.load(f'/home/radek/db/salt/val_preds_{name}_fold{fold}.npy')\n",
    "    preds.append(val_preds)\n",
    "    ys.append(y)\n",
    "    test_pred = np.load(f'/home/radek/db/salt/test_preds_{name}_fold{fold}.npy')\n",
    "    test_preds += test_pred / len(folds_to_train)\n",
    "\n",
    "np.save(f'/home/radek/db/salt/val_preds_{name}.npy', np.concatenate(preds))\n",
    "np.save(f'/home/radek/db/salt/val_targs_{name}.npy', np.concatenate(ys))\n",
    "np.save(f'/home/radek/db/salt/test_preds_{name}.npy', test_preds)"
   ]
  },
  {
   "cell_type": "code",
   "execution_count": null,
   "metadata": {},
   "outputs": [],
   "source": [
    "%%time\n",
    "for fold in folds_to_train:\n",
    "    val_preds = np.load(f'/home/radek/db/salt/val_preds_{name}_fold{fold}.npy')\n",
    "    val_targs = np.load(f'/home/radek/db/salt/val_targs_{name}_fold{fold}.npy')\n",
    "    print(f'Part {fold}: {accuracy_np(val_preds, val_targs)}, {iou_metric(val_targs, val_preds > 0.5)}, {best_preds_t(val_preds, val_targs)}')"
   ]
  },
  {
   "cell_type": "code",
   "execution_count": null,
   "metadata": {},
   "outputs": [],
   "source": []
  },
  {
   "cell_type": "code",
   "execution_count": null,
   "metadata": {},
   "outputs": [],
   "source": [
    "%%time\n",
    "for fold in folds_to_train:\n",
    "    val_preds = np.load(f'/home/radek/db/salt/val_preds_{name}_fold{fold}.npy')\n",
    "    val_targs = np.load(f'/home/radek/db/salt/val_targs_{name}_fold{fold}.npy')\n",
    "    print(f'Part {fold}: {accuracy_np(val_preds, val_targs)}, {iou_metric(val_targs, val_preds > 0.5)}, {best_preds_t(val_preds, val_targs)}')"
   ]
  },
  {
   "cell_type": "code",
   "execution_count": null,
   "metadata": {},
   "outputs": [],
   "source": [
    "%%time\n",
    "for fold in folds_to_train:\n",
    "    val_preds = np.load(f'/home/radek/db/salt/val_preds_{name}_fold{fold}.npy')\n",
    "    val_targs = np.load(f'/home/radek/db/salt/val_targs_{name}_fold{fold}.npy')\n",
    "    print(f'Part {fold}: {accuracy_np(val_preds, val_targs)}, {iou_metric(val_targs, val_preds > 0.5)}, {best_preds_t(val_preds, val_targs)}')"
   ]
  },
  {
   "cell_type": "code",
   "execution_count": null,
   "metadata": {},
   "outputs": [],
   "source": [
    "%%time\n",
    "for fold in folds_to_train:\n",
    "    val_preds = np.load(f'/home/radek/db/salt/val_preds_{name}_fold{fold}.npy')\n",
    "    val_targs = np.load(f'/home/radek/db/salt/val_targs_{name}_fold{fold}.npy')\n",
    "    print(f'Part {fold}: {accuracy_np(val_preds, val_targs)}, {iou_metric(val_targs, val_preds > 0.5)}, {best_preds_t(val_preds, val_targs)}')"
   ]
  },
  {
   "cell_type": "code",
   "execution_count": null,
   "metadata": {},
   "outputs": [],
   "source": []
  },
  {
   "cell_type": "code",
   "execution_count": null,
   "metadata": {},
   "outputs": [],
   "source": [
    "val_preds = np.load(f'/home/radek/db/salt/val_preds_{name}.npy')\n",
    "val_targs = np.load(f'/home/radek/db/salt/val_targs_{name}.npy')"
   ]
  },
  {
   "cell_type": "code",
   "execution_count": null,
   "metadata": {},
   "outputs": [],
   "source": [
    "iou_metric(val_targs, val_preds > 0.5)"
   ]
  },
  {
   "cell_type": "code",
   "execution_count": null,
   "metadata": {},
   "outputs": [],
   "source": [
    "iou_metric(val_targs, val_preds > 0.5)"
   ]
  },
  {
   "cell_type": "code",
   "execution_count": null,
   "metadata": {},
   "outputs": [],
   "source": [
    "iou_metric(val_targs, val_preds > 0.5)"
   ]
  },
  {
   "cell_type": "code",
   "execution_count": null,
   "metadata": {},
   "outputs": [],
   "source": [
    "iou_metric(val_targs, val_preds > 0.5)"
   ]
  },
  {
   "cell_type": "code",
   "execution_count": null,
   "metadata": {},
   "outputs": [],
   "source": [
    "%run diagnostics.ipynb"
   ]
  },
  {
   "cell_type": "code",
   "execution_count": null,
   "metadata": {},
   "outputs": [],
   "source": [
    "%run diagnostics.ipynb"
   ]
  },
  {
   "cell_type": "code",
   "execution_count": null,
   "metadata": {},
   "outputs": [],
   "source": []
  },
  {
   "cell_type": "code",
   "execution_count": null,
   "metadata": {},
   "outputs": [],
   "source": []
  },
  {
   "cell_type": "code",
   "execution_count": null,
   "metadata": {},
   "outputs": [],
   "source": []
  },
  {
   "cell_type": "code",
   "execution_count": null,
   "metadata": {},
   "outputs": [],
   "source": [
    "test_preds = np.load(f'/home/radek/db/salt/test_preds_{name}.npy')"
   ]
  },
  {
   "cell_type": "code",
   "execution_count": null,
   "metadata": {},
   "outputs": [],
   "source": [
    "# db = get_data_bunch(sz=202, bs=16, part=0, trn_tfms=trn_tfms)"
   ]
  },
  {
   "cell_type": "code",
   "execution_count": null,
   "metadata": {},
   "outputs": [],
   "source": [
    "preds_to_sub(test_preds, db.test_dl.dl.dataset.x, 0.5, 0, name)"
   ]
  },
  {
   "cell_type": "code",
   "execution_count": null,
   "metadata": {},
   "outputs": [],
   "source": [
    "!kaggle competitions submit -c tgs-salt-identification-challenge -f ../subs/{name}.csv.gz  -m {name}"
   ]
  }
 ],
 "metadata": {
  "kernelspec": {
   "display_name": "Python 3",
   "language": "python",
   "name": "python3"
  },
  "language_info": {
   "codemirror_mode": {
    "name": "ipython",
    "version": 3
   },
   "file_extension": ".py",
   "mimetype": "text/x-python",
   "name": "python",
   "nbconvert_exporter": "python",
   "pygments_lexer": "ipython3",
   "version": "3.7.0"
  }
 },
 "nbformat": 4,
 "nbformat_minor": 2
}
